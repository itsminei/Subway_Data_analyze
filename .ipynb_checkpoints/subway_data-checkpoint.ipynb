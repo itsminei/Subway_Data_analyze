{
 "cells": [
  {
   "cell_type": "code",
   "execution_count": 6,
   "id": "294e24a8",
   "metadata": {},
   "outputs": [],
   "source": [
    "import numpy as np \n",
    "import pandas as pd \n",
    "import matplotlib.pyplot as plt\n",
    "import matplotlib.font_manager as fm\n",
    "from matplotlib import rc\n"
   ]
  },
  {
   "cell_type": "code",
   "execution_count": 7,
   "id": "1f307061",
   "metadata": {},
   "outputs": [
    {
     "name": "stdout",
     "output_type": "stream",
     "text": [
      "<class 'pandas.core.frame.DataFrame'>\n",
      "RangeIndex: 16380 entries, 0 to 16379\n",
      "Data columns (total 25 columns):\n",
      " #   Column   Non-Null Count  Dtype \n",
      "---  ------   --------------  ----- \n",
      " 0   월        16380 non-null  int64 \n",
      " 1   일        16380 non-null  int64 \n",
      " 2   역번호      16380 non-null  int64 \n",
      " 3   역명       16380 non-null  object\n",
      " 4   승하차      16380 non-null  object\n",
      " 5   05시-06시  16380 non-null  int64 \n",
      " 6   06시-07시  16380 non-null  int64 \n",
      " 7   07시-08시  16380 non-null  int64 \n",
      " 8   08시-09시  16380 non-null  int64 \n",
      " 9   09시-10시  16380 non-null  int64 \n",
      " 10  10시-11시  16380 non-null  int64 \n",
      " 11  11시-12시  16380 non-null  int64 \n",
      " 12  12시-13시  16380 non-null  int64 \n",
      " 13  13시-14시  16380 non-null  int64 \n",
      " 14  14시-15시  16380 non-null  int64 \n",
      " 15  15시-16시  16380 non-null  int64 \n",
      " 16  16시-17시  16380 non-null  int64 \n",
      " 17  17시-18시  16380 non-null  int64 \n",
      " 18  18시-19시  16380 non-null  int64 \n",
      " 19  19시-20시  16380 non-null  int64 \n",
      " 20  20시-21시  16380 non-null  int64 \n",
      " 21  21시-22시  16380 non-null  int64 \n",
      " 22  22시-23시  16380 non-null  int64 \n",
      " 23  23시-24시  16380 non-null  int64 \n",
      " 24  일계       16380 non-null  int64 \n",
      "dtypes: int64(23), object(2)\n",
      "memory usage: 3.1+ MB\n"
     ]
    }
   ],
   "source": [
    "\n",
    "\n",
    "# CSV 파일 로드\n",
    "metro_all = pd.read_csv('Daegu_subway_data.csv', encoding = 'cp949')\n",
    "\n",
    "\n",
    "metro_all.head()\n",
    "metro_all.info()"
   ]
  },
  {
   "cell_type": "code",
   "execution_count": 9,
   "id": "e20d4402",
   "metadata": {},
   "outputs": [
    {
     "ename": "SyntaxError",
     "evalue": "invalid syntax (<ipython-input-9-32ad5e64ed5f>, line 24)",
     "output_type": "error",
     "traceback": [
      "\u001b[1;36m  File \u001b[1;32m\"<ipython-input-9-32ad5e64ed5f>\"\u001b[1;36m, line \u001b[1;32m24\u001b[0m\n\u001b[1;33m    plt.rcParams['axes.unicode_minus', fontproperties=fontprop] = False\u001b[0m\n\u001b[1;37m                                                     ^\u001b[0m\n\u001b[1;31mSyntaxError\u001b[0m\u001b[1;31m:\u001b[0m invalid syntax\n"
     ]
    }
   ],
   "source": [
    "\n",
    "font_path = './nanum-myeongjo-eco/NanumMyeongjoEco.ttf'\n",
    "font_name = fm.FontProperties(fname = font_path).get_name()\n",
    "\n",
    "rc('font',family=font_name)\n",
    "\n",
    "fontprop = fm.FontProperties(fname=path,size=12)\n",
    "\n",
    "metro_recent = metro_all[metro_all['월']==1]\n",
    "metro_recent\n",
    "# 불필요한 작업일자 컬럼 제거\n",
    "metro_recent = metro_recent.drop(columns={'일계'})\n",
    "metro_recent\n",
    "\n",
    "\n",
    "metro_line = metro_recent.groupby(['역명']).mean().reset_index()\n",
    "metro_line = metro_line.drop(columns='월').set_index('역명')\n",
    "metro_line = metro_line.mean(axis=1).sort_values(ascending=False)\n",
    "\n",
    "plt.figure(figsize=(20,10))\n",
    "plt.rc('font', family=font_name)\n",
    "plt.rcParams['axes.unicode_minus'] = False\n",
    "\n",
    "metro_line.plot(kind=('bar'))\n",
    "plt.show()"
   ]
  },
  {
   "cell_type": "code",
   "execution_count": null,
   "id": "37f79cc2",
   "metadata": {},
   "outputs": [],
   "source": []
  }
 ],
 "metadata": {
  "kernelspec": {
   "display_name": "Python 3",
   "language": "python",
   "name": "python3"
  },
  "language_info": {
   "codemirror_mode": {
    "name": "ipython",
    "version": 3
   },
   "file_extension": ".py",
   "mimetype": "text/x-python",
   "name": "python",
   "nbconvert_exporter": "python",
   "pygments_lexer": "ipython3",
   "version": "3.8.8"
  }
 },
 "nbformat": 4,
 "nbformat_minor": 5
}
